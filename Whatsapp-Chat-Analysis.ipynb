{
 "cells": [
  {
   "cell_type": "code",
   "execution_count": 19,
   "id": "a1281619",
   "metadata": {},
   "outputs": [],
   "source": [
    "# import re \n",
    "import pandas as pd\n",
    "import re"
   ]
  },
  {
   "cell_type": "code",
   "execution_count": 20,
   "id": "50cef9df",
   "metadata": {},
   "outputs": [],
   "source": [
    " #importing files "
   ]
  },
  {
   "cell_type": "code",
   "execution_count": 21,
   "id": "01dce044",
   "metadata": {},
   "outputs": [],
   "source": [
    "f = open('WhatsApp Chat with Priyanshu.txt', 'r', encoding = 'utf-8')"
   ]
  },
  {
   "cell_type": "code",
   "execution_count": 22,
   "id": "5ebb6b3c",
   "metadata": {},
   "outputs": [],
   "source": [
    "data = f.read()"
   ]
  },
  {
   "cell_type": "code",
   "execution_count": 23,
   "id": "b2a953d7",
   "metadata": {},
   "outputs": [],
   "source": [
    "%%capture\n",
    "print(data)"
   ]
  },
  {
   "cell_type": "code",
   "execution_count": 24,
   "id": "13eb4240",
   "metadata": {},
   "outputs": [],
   "source": [
    "pattern = '\\d{1,2}/\\d{1,2}/\\d{2,4},\\s\\d{1,2}:\\d{2}\\s-\\s'"
   ]
  },
  {
   "cell_type": "code",
   "execution_count": 25,
   "id": "2fa25533",
   "metadata": {},
   "outputs": [],
   "source": [
    "%%capture\n",
    "messages = re.split(pattern,data)[1:]\n",
    "messages"
   ]
  },
  {
   "cell_type": "code",
   "execution_count": 26,
   "id": "1b2ae578",
   "metadata": {},
   "outputs": [],
   "source": [
    "dates = re.findall(pattern, data)"
   ]
  },
  {
   "cell_type": "code",
   "execution_count": 27,
   "id": "d9a3d325",
   "metadata": {},
   "outputs": [],
   "source": [
    "%%capture\n",
    "dates"
   ]
  },
  {
   "cell_type": "code",
   "execution_count": 28,
   "id": "08614651",
   "metadata": {},
   "outputs": [],
   "source": [
    "%%capture\n",
    "df = pd.DataFrame({'user_message':messages,\n",
    "                  'message_date':dates})\n",
    "#convert message-date type\n",
    "df['message_date'] = pd.to_datetime(df['message_date'], format = '%m/%d/%y, %H:%M - ')\n",
    "df.rename(columns = {'message_date':'date'}, inplace= True)\n",
    "df.head()"
   ]
  },
  {
   "cell_type": "code",
   "execution_count": 29,
   "id": "950f84a6",
   "metadata": {},
   "outputs": [],
   "source": [
    "%%capture\n",
    "users = []\n",
    "messages = []\n",
    "for message in df['user_message']:\n",
    "    entry = re.split('([\\w\\W]+?):\\s', message)\n",
    "    if entry[1:]:\n",
    "        users.append(entry[1])\n",
    "        messages.append(entry[2])\n",
    "    else:\n",
    "        users.append('group_notification')\n",
    "        messages.append(entry[0])\n",
    "        \n",
    "df['user'] = users\n",
    "df[ 'message'] = messages\n",
    "df.drop(columns=['user_message'], inplace = True)\n",
    "df.head()"
   ]
  },
  {
   "cell_type": "code",
   "execution_count": 30,
   "id": "0b5b307a",
   "metadata": {},
   "outputs": [],
   "source": [
    "%%capture\n",
    "df.shape"
   ]
  },
  {
   "cell_type": "code",
   "execution_count": 31,
   "id": "2ebf8b47",
   "metadata": {},
   "outputs": [],
   "source": [
    "df['year'] = df['date'].dt.year"
   ]
  },
  {
   "cell_type": "code",
   "execution_count": 32,
   "id": "7ce250f5",
   "metadata": {},
   "outputs": [],
   "source": [
    "%%capture\n",
    "df.head()"
   ]
  },
  {
   "cell_type": "code",
   "execution_count": 33,
   "id": "33e88b23",
   "metadata": {},
   "outputs": [],
   "source": [
    "df['month'] = df['date'].dt.month_name()"
   ]
  },
  {
   "cell_type": "code",
   "execution_count": 34,
   "id": "601f3537",
   "metadata": {},
   "outputs": [],
   "source": [
    "df['day'] = df['date'].dt.day"
   ]
  },
  {
   "cell_type": "code",
   "execution_count": 35,
   "id": "8dd8b918",
   "metadata": {},
   "outputs": [],
   "source": [
    "df['hour'] = df['date'].dt.hour"
   ]
  },
  {
   "cell_type": "code",
   "execution_count": 36,
   "id": "e09c183e",
   "metadata": {},
   "outputs": [],
   "source": [
    "df['minute'] = df['date'].dt.minute"
   ]
  },
  {
   "cell_type": "code",
   "execution_count": 37,
   "id": "63f07e4f",
   "metadata": {},
   "outputs": [],
   "source": [
    "%%capture\n",
    "df.head()"
   ]
  },
  {
   "cell_type": "code",
   "execution_count": 38,
   "id": "c7f2bd9b",
   "metadata": {},
   "outputs": [],
   "source": [
    "%%capture\n",
    "df[df['user'] == 'mehul'].shape"
   ]
  },
  {
   "cell_type": "code",
   "execution_count": 39,
   "id": "bb9f6ca1",
   "metadata": {},
   "outputs": [],
   "source": [
    "%%capture\n",
    "words = []\n",
    "for message in df['message']:\n",
    "    words.extend(message.split())"
   ]
  },
  {
   "cell_type": "code",
   "execution_count": 40,
   "id": "5e0a3cb4",
   "metadata": {},
   "outputs": [],
   "source": [
    "%%capture\n",
    "len(words)"
   ]
  },
  {
   "cell_type": "code",
   "execution_count": 41,
   "id": "82725d6a",
   "metadata": {},
   "outputs": [
    {
     "name": "stdout",
     "output_type": "stream",
     "text": [
      "Requirement already satisfied: urlextract in c:\\users\\asus\\anaconda3\\lib\\site-packages (1.8.0)\n",
      "Requirement already satisfied: platformdirs in c:\\users\\asus\\anaconda3\\lib\\site-packages (from urlextract) (2.5.2)\n",
      "Requirement already satisfied: filelock in c:\\users\\asus\\anaconda3\\lib\\site-packages (from urlextract) (3.9.0)\n",
      "Requirement already satisfied: uritools in c:\\users\\asus\\anaconda3\\lib\\site-packages (from urlextract) (4.0.1)\n",
      "Requirement already satisfied: idna in c:\\users\\asus\\anaconda3\\lib\\site-packages (from urlextract) (3.4)\n",
      "Note: you may need to restart the kernel to use updated packages.\n"
     ]
    }
   ],
   "source": [
    "pip install urlextract\n"
   ]
  },
  {
   "cell_type": "code",
   "execution_count": 42,
   "id": "d642ed12",
   "metadata": {},
   "outputs": [],
   "source": [
    "%%capture\n",
    "from urlextract import URLExtract\n",
    "extractor = URLExtract()\n",
    "urls = extractor.find_urls(\"let's www.gmail.com have a url stackflow.com as an example of google.com and , http://facebook.com\")\n",
    "urls"
   ]
  },
  {
   "cell_type": "code",
   "execution_count": 43,
   "id": "8d01edea",
   "metadata": {},
   "outputs": [],
   "source": [
    "%%capture\n",
    "links = []\n",
    "for message in df['message']:\n",
    "    links.extend(extractor.find_urls(message))\n",
    "    \n",
    "links"
   ]
  },
  {
   "cell_type": "code",
   "execution_count": 44,
   "id": "fabc6cba",
   "metadata": {},
   "outputs": [],
   "source": [
    "%%capture\n",
    "len(links)"
   ]
  },
  {
   "cell_type": "code",
   "execution_count": 45,
   "id": "012b54eb",
   "metadata": {},
   "outputs": [],
   "source": [
    "%%capture\n",
    "x = df['user'].value_counts().head()\n"
   ]
  },
  {
   "cell_type": "code",
   "execution_count": 46,
   "id": "1251750c",
   "metadata": {},
   "outputs": [],
   "source": [
    "%%capture\n",
    "import matplotlib.pyplot as plt"
   ]
  },
  {
   "cell_type": "code",
   "execution_count": 47,
   "id": "e42ec51e",
   "metadata": {},
   "outputs": [],
   "source": [
    "%%capture\n",
    "name = x.index\n",
    "count = x.values\n",
    "plt.bar(name,count)\n",
    "plt.show"
   ]
  },
  {
   "cell_type": "code",
   "execution_count": 48,
   "id": "e03f3844",
   "metadata": {},
   "outputs": [],
   "source": [
    "%%capture\n",
    "round((df['user'].value_counts()/df.shape[0])*100,2)"
   ]
  },
  {
   "cell_type": "code",
   "execution_count": 49,
   "id": "aa3b9646",
   "metadata": {},
   "outputs": [],
   "source": [
    "%%capture\n",
    "words = []\n",
    "for message in df['message']:\n",
    "    words.extend(message.split())\n",
    "    \n",
    "words"
   ]
  },
  {
   "cell_type": "code",
   "execution_count": 50,
   "id": "a3e3f529",
   "metadata": {},
   "outputs": [],
   "source": [
    "%%capture\n",
    "pip install collections"
   ]
  },
  {
   "cell_type": "code",
   "execution_count": 51,
   "id": "19195fb2",
   "metadata": {},
   "outputs": [],
   "source": [
    "%%capture\n",
    "from collections import Counter\n",
    "pd.DataFrame(Counter(words).most_common(20))"
   ]
  },
  {
   "cell_type": "code",
   "execution_count": 52,
   "id": "868edfe3",
   "metadata": {},
   "outputs": [],
   "source": [
    "%%capture\n",
    "temp = df[df['user'] == 'group_notification']\n",
    "temp = temp[temp['message'] != '<Media omitted>\\n']\n",
    "temp"
   ]
  },
  {
   "cell_type": "code",
   "execution_count": 53,
   "id": "ff5f5c62",
   "metadata": {},
   "outputs": [],
   "source": [
    "%%capture\n",
    "f = open('stop_hinglish.txt', 'r')\n",
    "stop_words = f.read().split()\n",
    "stop_words"
   ]
  },
  {
   "cell_type": "code",
   "execution_count": 54,
   "id": "9d4c8195",
   "metadata": {},
   "outputs": [],
   "source": [
    "%%capture\n",
    "words = []\n",
    "for message in temp['message']:\n",
    "    for word in message.lower().split():\n",
    "        if word not in stop_words:\n",
    "            words.append(word)\n",
    "    \n",
    "words"
   ]
  },
  {
   "cell_type": "code",
   "execution_count": 55,
   "id": "35b4f36c",
   "metadata": {},
   "outputs": [],
   "source": [
    "%%capture\n",
    "import pandas as pd\n",
    "import regex as re\n",
    "import emoji\n",
    "comments = df['message']\n",
    "smiley_data = {'Smiley': [], 'Count': []}\n",
    "pattern = r'([\\U0001F600-\\U0001F64F\\U0001F300-\\U0001F5FF\\U0001F680-\\U0001F6FF\\U0001F1E0-\\U0001F1FF])'\n",
    "\n",
    "for comment in comments:\n",
    "    smileys = re.findall(pattern, comment)\n",
    "    for smiley in smileys:\n",
    "        if smiley in smiley_data['Smiley']:\n",
    "            index = smiley_data['Smiley'].index(smiley)\n",
    "            smiley_data['Count'][index] += 1\n",
    "        else:\n",
    "            smiley_data['Smiley'].append(smiley)\n",
    "            smiley_data['Count'].append(1)\n",
    "smiley_df = pd.DataFrame(smiley_data)\n",
    "smiley_df = smiley_df.sort_values(by='Count', ascending=False)\n",
    "print(smiley_df.head())\n",
    "\n"
   ]
  },
  {
   "cell_type": "code",
   "execution_count": 56,
   "id": "50a4e8d0",
   "metadata": {},
   "outputs": [],
   "source": [
    "%%capture\n",
    "plt.bar(smiley_df['Smiley'].head(), smiley_df['Count'].head())"
   ]
  },
  {
   "cell_type": "code",
   "execution_count": 57,
   "id": "4205d9e8",
   "metadata": {},
   "outputs": [],
   "source": [
    "df['month_num'] = df['date'].dt.month"
   ]
  },
  {
   "cell_type": "code",
   "execution_count": 58,
   "id": "93fbeea0",
   "metadata": {},
   "outputs": [],
   "source": [
    "timeline = df.groupby(['year','month_num', 'month']).count()['message'].reset_index()"
   ]
  },
  {
   "cell_type": "code",
   "execution_count": 59,
   "id": "9ba9f422",
   "metadata": {},
   "outputs": [],
   "source": [
    "%%capture\n",
    "timeline"
   ]
  },
  {
   "cell_type": "code",
   "execution_count": 60,
   "id": "aa0ed93a",
   "metadata": {},
   "outputs": [],
   "source": [
    "time = []\n",
    "for i in range(timeline.shape[0]):\n",
    "    time.append(timeline['month'][i] + \"-\" + str(timeline['year'][i]))"
   ]
  },
  {
   "cell_type": "code",
   "execution_count": 61,
   "id": "72578861",
   "metadata": {},
   "outputs": [],
   "source": [
    "timeline['time'] = time"
   ]
  },
  {
   "cell_type": "code",
   "execution_count": 62,
   "id": "fc77fa2a",
   "metadata": {},
   "outputs": [],
   "source": [
    "%%capture\n",
    "timeline"
   ]
  },
  {
   "cell_type": "code",
   "execution_count": 63,
   "id": "f2814c0c",
   "metadata": {},
   "outputs": [],
   "source": [
    "%%capture\n",
    "plt.plot(timeline['time'],timeline['message'])\n",
    "plt.xticks(rotation='vertical')\n",
    "plt.show()"
   ]
  },
  {
   "cell_type": "code",
   "execution_count": 64,
   "id": "3751336b",
   "metadata": {},
   "outputs": [],
   "source": [
    "df['only_date']=df['date'].dt.date"
   ]
  },
  {
   "cell_type": "code",
   "execution_count": 65,
   "id": "5ffa8e62",
   "metadata": {},
   "outputs": [],
   "source": [
    "daily_timeline = df.groupby('only_date').count()['message'].reset_index()"
   ]
  },
  {
   "cell_type": "code",
   "execution_count": 66,
   "id": "e6978410",
   "metadata": {},
   "outputs": [],
   "source": [
    "%%capture\n",
    "plt.figure(figsize=(18,10))\n",
    "plt.plot(daily_timeline['only_date'], daily_timeline['message'])"
   ]
  },
  {
   "cell_type": "code",
   "execution_count": 67,
   "id": "50cd4054",
   "metadata": {},
   "outputs": [],
   "source": [
    "%%capture\n",
    "df.head()"
   ]
  },
  {
   "cell_type": "code",
   "execution_count": 68,
   "id": "7c3ee935",
   "metadata": {},
   "outputs": [],
   "source": [
    "df['day_name'] = df['date'].dt.day_name()"
   ]
  },
  {
   "cell_type": "code",
   "execution_count": 69,
   "id": "46c2b50c",
   "metadata": {},
   "outputs": [],
   "source": [
    "%%capture\n",
    "df['day_name'].value_counts()"
   ]
  },
  {
   "cell_type": "code",
   "execution_count": 70,
   "id": "f8d261c2",
   "metadata": {},
   "outputs": [],
   "source": [
    "%%capture\n",
    "df['month'].value_counts()"
   ]
  },
  {
   "cell_type": "code",
   "execution_count": 71,
   "id": "ae729c85",
   "metadata": {},
   "outputs": [],
   "source": [
    "%%capture\n",
    "df.head()"
   ]
  },
  {
   "cell_type": "code",
   "execution_count": 72,
   "id": "e83b2ff6",
   "metadata": {},
   "outputs": [],
   "source": [
    "%%capture\n",
    "period = []\n",
    "for hour in df[['day_name', 'hour']]['hour']:\n",
    "    if hour ==23:\n",
    "        period.append(str(hour) + \"-\" + str('00'))\n",
    "    elif hour == 0:\n",
    "        period.append(str('00') + \"-\" + str(hour+1))\n",
    "    else:\n",
    "        period.append(str(hour) + \"-\" + str(hour+1))"
   ]
  },
  {
   "cell_type": "code",
   "execution_count": 73,
   "id": "9018af86",
   "metadata": {},
   "outputs": [],
   "source": [
    "df['period'] = period"
   ]
  },
  {
   "cell_type": "code",
   "execution_count": 74,
   "id": "111bd6a0",
   "metadata": {},
   "outputs": [],
   "source": [
    "%%capture\n",
    "df.sample(5)"
   ]
  },
  {
   "cell_type": "code",
   "execution_count": 75,
   "id": "fb818258",
   "metadata": {},
   "outputs": [],
   "source": [
    "%%capture\n",
    "import seaborn as sns\n",
    "plt.figure(figsize=(20,6))\n",
    "sns.heatmap(df.pivot_table(index='day_name', columns='period',values='message',aggfunc='count').fillna(0))\n",
    "plt.yticks(rotation='horizontal')\n",
    "plt.show()"
   ]
  }
 ],
 "metadata": {
  "kernelspec": {
   "display_name": "Python 3 (ipykernel)",
   "language": "python",
   "name": "python3"
  },
  "language_info": {
   "codemirror_mode": {
    "name": "ipython",
    "version": 3
   },
   "file_extension": ".py",
   "mimetype": "text/x-python",
   "name": "python",
   "nbconvert_exporter": "python",
   "pygments_lexer": "ipython3",
   "version": "3.11.4"
  }
 },
 "nbformat": 4,
 "nbformat_minor": 5
}
